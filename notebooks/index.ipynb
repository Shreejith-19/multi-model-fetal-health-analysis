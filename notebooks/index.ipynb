{
 "cells": [
  {
   "cell_type": "markdown",
   "id": "e8d3cc96",
   "metadata": {},
   "source": [
    "<h3><b>1)Import Libraries and Load dataset</b></h3>"
   ]
  },
  {
   "cell_type": "code",
   "execution_count": 1,
   "id": "c19597f1",
   "metadata": {},
   "outputs": [],
   "source": [
    "import pandas as pd\n",
    "import numpy as np\n",
    "import matplotlib.pyplot as plt\n",
    "import seaborn as sns"
   ]
  },
  {
   "cell_type": "code",
   "execution_count": 2,
   "id": "4e542f65",
   "metadata": {},
   "outputs": [
    {
     "data": {
      "text/html": [
       "<div>\n",
       "<style scoped>\n",
       "    .dataframe tbody tr th:only-of-type {\n",
       "        vertical-align: middle;\n",
       "    }\n",
       "\n",
       "    .dataframe tbody tr th {\n",
       "        vertical-align: top;\n",
       "    }\n",
       "\n",
       "    .dataframe thead th {\n",
       "        text-align: right;\n",
       "    }\n",
       "</style>\n",
       "<table border=\"1\" class=\"dataframe\">\n",
       "  <thead>\n",
       "    <tr style=\"text-align: right;\">\n",
       "      <th></th>\n",
       "      <th>baseline value</th>\n",
       "      <th>accelerations</th>\n",
       "      <th>fetal_movement</th>\n",
       "      <th>uterine_contractions</th>\n",
       "      <th>light_decelerations</th>\n",
       "      <th>severe_decelerations</th>\n",
       "      <th>prolongued_decelerations</th>\n",
       "      <th>abnormal_short_term_variability</th>\n",
       "      <th>mean_value_of_short_term_variability</th>\n",
       "      <th>percentage_of_time_with_abnormal_long_term_variability</th>\n",
       "      <th>...</th>\n",
       "      <th>histogram_min</th>\n",
       "      <th>histogram_max</th>\n",
       "      <th>histogram_number_of_peaks</th>\n",
       "      <th>histogram_number_of_zeroes</th>\n",
       "      <th>histogram_mode</th>\n",
       "      <th>histogram_mean</th>\n",
       "      <th>histogram_median</th>\n",
       "      <th>histogram_variance</th>\n",
       "      <th>histogram_tendency</th>\n",
       "      <th>fetal_health</th>\n",
       "    </tr>\n",
       "  </thead>\n",
       "  <tbody>\n",
       "    <tr>\n",
       "      <th>0</th>\n",
       "      <td>120.0</td>\n",
       "      <td>0.000</td>\n",
       "      <td>0.0</td>\n",
       "      <td>0.000</td>\n",
       "      <td>0.000</td>\n",
       "      <td>0.0</td>\n",
       "      <td>0.0</td>\n",
       "      <td>73.0</td>\n",
       "      <td>0.5</td>\n",
       "      <td>43.0</td>\n",
       "      <td>...</td>\n",
       "      <td>62.0</td>\n",
       "      <td>126.0</td>\n",
       "      <td>2.0</td>\n",
       "      <td>0.0</td>\n",
       "      <td>120.0</td>\n",
       "      <td>137.0</td>\n",
       "      <td>121.0</td>\n",
       "      <td>73.0</td>\n",
       "      <td>1.0</td>\n",
       "      <td>2.0</td>\n",
       "    </tr>\n",
       "    <tr>\n",
       "      <th>1</th>\n",
       "      <td>132.0</td>\n",
       "      <td>0.006</td>\n",
       "      <td>0.0</td>\n",
       "      <td>0.006</td>\n",
       "      <td>0.003</td>\n",
       "      <td>0.0</td>\n",
       "      <td>0.0</td>\n",
       "      <td>17.0</td>\n",
       "      <td>2.1</td>\n",
       "      <td>0.0</td>\n",
       "      <td>...</td>\n",
       "      <td>68.0</td>\n",
       "      <td>198.0</td>\n",
       "      <td>6.0</td>\n",
       "      <td>1.0</td>\n",
       "      <td>141.0</td>\n",
       "      <td>136.0</td>\n",
       "      <td>140.0</td>\n",
       "      <td>12.0</td>\n",
       "      <td>0.0</td>\n",
       "      <td>1.0</td>\n",
       "    </tr>\n",
       "    <tr>\n",
       "      <th>2</th>\n",
       "      <td>133.0</td>\n",
       "      <td>0.003</td>\n",
       "      <td>0.0</td>\n",
       "      <td>0.008</td>\n",
       "      <td>0.003</td>\n",
       "      <td>0.0</td>\n",
       "      <td>0.0</td>\n",
       "      <td>16.0</td>\n",
       "      <td>2.1</td>\n",
       "      <td>0.0</td>\n",
       "      <td>...</td>\n",
       "      <td>68.0</td>\n",
       "      <td>198.0</td>\n",
       "      <td>5.0</td>\n",
       "      <td>1.0</td>\n",
       "      <td>141.0</td>\n",
       "      <td>135.0</td>\n",
       "      <td>138.0</td>\n",
       "      <td>13.0</td>\n",
       "      <td>0.0</td>\n",
       "      <td>1.0</td>\n",
       "    </tr>\n",
       "    <tr>\n",
       "      <th>3</th>\n",
       "      <td>134.0</td>\n",
       "      <td>0.003</td>\n",
       "      <td>0.0</td>\n",
       "      <td>0.008</td>\n",
       "      <td>0.003</td>\n",
       "      <td>0.0</td>\n",
       "      <td>0.0</td>\n",
       "      <td>16.0</td>\n",
       "      <td>2.4</td>\n",
       "      <td>0.0</td>\n",
       "      <td>...</td>\n",
       "      <td>53.0</td>\n",
       "      <td>170.0</td>\n",
       "      <td>11.0</td>\n",
       "      <td>0.0</td>\n",
       "      <td>137.0</td>\n",
       "      <td>134.0</td>\n",
       "      <td>137.0</td>\n",
       "      <td>13.0</td>\n",
       "      <td>1.0</td>\n",
       "      <td>1.0</td>\n",
       "    </tr>\n",
       "    <tr>\n",
       "      <th>4</th>\n",
       "      <td>132.0</td>\n",
       "      <td>0.007</td>\n",
       "      <td>0.0</td>\n",
       "      <td>0.008</td>\n",
       "      <td>0.000</td>\n",
       "      <td>0.0</td>\n",
       "      <td>0.0</td>\n",
       "      <td>16.0</td>\n",
       "      <td>2.4</td>\n",
       "      <td>0.0</td>\n",
       "      <td>...</td>\n",
       "      <td>53.0</td>\n",
       "      <td>170.0</td>\n",
       "      <td>9.0</td>\n",
       "      <td>0.0</td>\n",
       "      <td>137.0</td>\n",
       "      <td>136.0</td>\n",
       "      <td>138.0</td>\n",
       "      <td>11.0</td>\n",
       "      <td>1.0</td>\n",
       "      <td>1.0</td>\n",
       "    </tr>\n",
       "  </tbody>\n",
       "</table>\n",
       "<p>5 rows × 22 columns</p>\n",
       "</div>"
      ],
      "text/plain": [
       "   baseline value  accelerations  fetal_movement  uterine_contractions  \\\n",
       "0           120.0          0.000             0.0                 0.000   \n",
       "1           132.0          0.006             0.0                 0.006   \n",
       "2           133.0          0.003             0.0                 0.008   \n",
       "3           134.0          0.003             0.0                 0.008   \n",
       "4           132.0          0.007             0.0                 0.008   \n",
       "\n",
       "   light_decelerations  severe_decelerations  prolongued_decelerations  \\\n",
       "0                0.000                   0.0                       0.0   \n",
       "1                0.003                   0.0                       0.0   \n",
       "2                0.003                   0.0                       0.0   \n",
       "3                0.003                   0.0                       0.0   \n",
       "4                0.000                   0.0                       0.0   \n",
       "\n",
       "   abnormal_short_term_variability  mean_value_of_short_term_variability  \\\n",
       "0                             73.0                                   0.5   \n",
       "1                             17.0                                   2.1   \n",
       "2                             16.0                                   2.1   \n",
       "3                             16.0                                   2.4   \n",
       "4                             16.0                                   2.4   \n",
       "\n",
       "   percentage_of_time_with_abnormal_long_term_variability  ...  histogram_min  \\\n",
       "0                                               43.0       ...           62.0   \n",
       "1                                                0.0       ...           68.0   \n",
       "2                                                0.0       ...           68.0   \n",
       "3                                                0.0       ...           53.0   \n",
       "4                                                0.0       ...           53.0   \n",
       "\n",
       "   histogram_max  histogram_number_of_peaks  histogram_number_of_zeroes  \\\n",
       "0          126.0                        2.0                         0.0   \n",
       "1          198.0                        6.0                         1.0   \n",
       "2          198.0                        5.0                         1.0   \n",
       "3          170.0                       11.0                         0.0   \n",
       "4          170.0                        9.0                         0.0   \n",
       "\n",
       "   histogram_mode  histogram_mean  histogram_median  histogram_variance  \\\n",
       "0           120.0           137.0             121.0                73.0   \n",
       "1           141.0           136.0             140.0                12.0   \n",
       "2           141.0           135.0             138.0                13.0   \n",
       "3           137.0           134.0             137.0                13.0   \n",
       "4           137.0           136.0             138.0                11.0   \n",
       "\n",
       "   histogram_tendency  fetal_health  \n",
       "0                 1.0           2.0  \n",
       "1                 0.0           1.0  \n",
       "2                 0.0           1.0  \n",
       "3                 1.0           1.0  \n",
       "4                 1.0           1.0  \n",
       "\n",
       "[5 rows x 22 columns]"
      ]
     },
     "execution_count": 2,
     "metadata": {},
     "output_type": "execute_result"
    }
   ],
   "source": [
    "df = pd.read_csv(\"../data/raw/fetal_health.csv\")\n",
    "df.head(5)"
   ]
  },
  {
   "cell_type": "markdown",
   "id": "ecf018cc",
   "metadata": {},
   "source": [
    "<h3><b>2) Data Exploration and Data Cleaning</b></h3>"
   ]
  },
  {
   "cell_type": "code",
   "execution_count": 3,
   "id": "5d556805",
   "metadata": {},
   "outputs": [
    {
     "name": "stdout",
     "output_type": "stream",
     "text": [
      "Number of records: 2126\n",
      "Number of features: 21\n",
      "Classes in target(fetal_health): [2. 1. 3.]\n"
     ]
    }
   ],
   "source": [
    "print(f\"Number of records: {len(df)}\")\n",
    "print(f\"Number of features: {len(df.iloc[0]) - 1}\")\n",
    "print(f\"Classes in target(fetal_health): {df[\"fetal_health\"].unique()}\")"
   ]
  },
  {
   "cell_type": "code",
   "execution_count": 4,
   "id": "79d0a127",
   "metadata": {},
   "outputs": [
    {
     "name": "stdout",
     "output_type": "stream",
     "text": [
      "<class 'pandas.core.frame.DataFrame'>\n",
      "RangeIndex: 2126 entries, 0 to 2125\n",
      "Data columns (total 22 columns):\n",
      " #   Column                                                  Non-Null Count  Dtype  \n",
      "---  ------                                                  --------------  -----  \n",
      " 0   baseline value                                          2126 non-null   float64\n",
      " 1   accelerations                                           2126 non-null   float64\n",
      " 2   fetal_movement                                          2126 non-null   float64\n",
      " 3   uterine_contractions                                    2126 non-null   float64\n",
      " 4   light_decelerations                                     2126 non-null   float64\n",
      " 5   severe_decelerations                                    2126 non-null   float64\n",
      " 6   prolongued_decelerations                                2126 non-null   float64\n",
      " 7   abnormal_short_term_variability                         2126 non-null   float64\n",
      " 8   mean_value_of_short_term_variability                    2126 non-null   float64\n",
      " 9   percentage_of_time_with_abnormal_long_term_variability  2126 non-null   float64\n",
      " 10  mean_value_of_long_term_variability                     2126 non-null   float64\n",
      " 11  histogram_width                                         2126 non-null   float64\n",
      " 12  histogram_min                                           2126 non-null   float64\n",
      " 13  histogram_max                                           2126 non-null   float64\n",
      " 14  histogram_number_of_peaks                               2126 non-null   float64\n",
      " 15  histogram_number_of_zeroes                              2126 non-null   float64\n",
      " 16  histogram_mode                                          2126 non-null   float64\n",
      " 17  histogram_mean                                          2126 non-null   float64\n",
      " 18  histogram_median                                        2126 non-null   float64\n",
      " 19  histogram_variance                                      2126 non-null   float64\n",
      " 20  histogram_tendency                                      2126 non-null   float64\n",
      " 21  fetal_health                                            2126 non-null   float64\n",
      "dtypes: float64(22)\n",
      "memory usage: 365.5 KB\n"
     ]
    }
   ],
   "source": [
    "# general information about the dataset\n",
    "df.info()"
   ]
  },
  {
   "cell_type": "markdown",
   "id": "b31a8143",
   "metadata": {},
   "source": [
    "**Remove duplicate records**"
   ]
  },
  {
   "cell_type": "code",
   "execution_count": 5,
   "id": "12120bd3",
   "metadata": {},
   "outputs": [
    {
     "name": "stdout",
     "output_type": "stream",
     "text": [
      "Number of duplicate records: 13\n",
      "Number of records after droping duplicates: 2113\n"
     ]
    }
   ],
   "source": [
    "#finding duplicate records\n",
    "dup_boolean = df.duplicated()\n",
    "print(f\"Number of duplicate records: {dup_boolean.sum()}\")\n",
    "df.drop_duplicates(inplace = True)\n",
    "print(f\"Number of records after droping duplicates: {len(df)}\")"
   ]
  },
  {
   "cell_type": "markdown",
   "id": "c6847551",
   "metadata": {},
   "source": [
    "**Class Distribution**"
   ]
  },
  {
   "cell_type": "code",
   "execution_count": 6,
   "id": "5acfd047",
   "metadata": {},
   "outputs": [
    {
     "data": {
      "image/png": "[encoded data removed]",
      "text/plain": [
       "<Figure size 640x480 with 1 Axes>"
      ]
     },
     "metadata": {},
     "output_type": "display_data"
    }
   ],
   "source": [
    "#Visualize class distribution\n",
    "#1 -> Normal, 2 -> Suspect, 3 -> Pathological\n",
    "ax = sns.countplot(data = df, x = \"fetal_health\", hue = \"fetal_health\", palette = \"muted\")\n",
    "for container in ax.containers:\n",
    "    ax.bar_label(container)\n",
    "plt.show()"
   ]
  },
  {
   "cell_type": "markdown",
   "id": "7820a32b",
   "metadata": {},
   "source": [
    "Outlier Analysis using IQR method(except target)"
   ]
  },
  {
   "cell_type": "code",
   "execution_count": 7,
   "id": "06ffb321",
   "metadata": {},
   "outputs": [
    {
     "name": "stdout",
     "output_type": "stream",
     "text": [
      "1 'baseline value': No outliers found\n",
      "2 'accelerations': 14 outliers found\n",
      "3 'fetal_movement': 305 outliers found\n",
      "4 'uterine_contractions': 1 outliers found\n",
      "5 'light_decelerations': 150 outliers found\n",
      "6 'severe_decelerations': 7 outliers found\n",
      "7 'prolongued_decelerations': 178 outliers found\n",
      "8 'abnormal_short_term_variability': No outliers found\n",
      "9 'mean_value_of_short_term_variability': 70 outliers found\n",
      "10 'percentage_of_time_with_abnormal_long_term_variability': 305 outliers found\n",
      "11 'mean_value_of_long_term_variability': 71 outliers found\n",
      "12 'histogram_width': No outliers found\n",
      "13 'histogram_min': No outliers found\n",
      "14 'histogram_max': 24 outliers found\n",
      "15 'histogram_number_of_peaks': 19 outliers found\n",
      "16 'histogram_number_of_zeroes': 502 outliers found\n",
      "17 'histogram_mode': 73 outliers found\n",
      "18 'histogram_mean': 45 outliers found\n",
      "19 'histogram_median': 28 outliers found\n",
      "20 'histogram_variance': 184 outliers found\n",
      "21 'histogram_tendency': No outliers found\n"
     ]
    }
   ],
   "source": [
    "from sklearn.model_selection import train_test_split\n",
    "\n",
    "X = df.drop(columns=[\"fetal_health\"])\n",
    "Y = df[\"fetal_health\"]\n",
    "\n",
    "# Outlier Detection Using IQR\n",
    "def find_outliers_iqr(data):\n",
    "    outlier_count = {}\n",
    "    numeric_cols = data.select_dtypes(include=np.number).columns.tolist()\n",
    "\n",
    "    for col in numeric_cols:\n",
    "        Q1 = data[col].quantile(0.25)\n",
    "        Q3 = data[col].quantile(0.75)\n",
    "        IQR = Q3 - Q1\n",
    "        lower_bound = Q1 - 1.5 * IQR\n",
    "        upper_bound = Q3 + 1.5 * IQR\n",
    "        outliers = data[(data[col] < lower_bound) | (data[col] > upper_bound)]\n",
    "        outlier_count[col] = len(outliers)\n",
    "\n",
    "    for i, (feature, count) in enumerate(outlier_count.items(), start=1):\n",
    "        if count > 0:\n",
    "            print(f\"{i} '{feature}': {count} outliers found\")\n",
    "        else:\n",
    "            print(f\"{i} '{feature}': No outliers found\")\n",
    "\n",
    "find_outliers_iqr(X)\n",
    "\n",
    "  "
   ]
  },
  {
   "cell_type": "markdown",
   "id": "7619892a",
   "metadata": {},
   "source": [
    "<h3><b>3)Feature Scaling & splitting dataset</b></h3>"
   ]
  },
  {
   "cell_type": "markdown",
   "id": "1db76451",
   "metadata": {},
   "source": [
    "**70|15|15 train-test-validation split**"
   ]
  },
  {
   "cell_type": "code",
   "execution_count": 8,
   "id": "a6b4197d",
   "metadata": {},
   "outputs": [
    {
     "name": "stdout",
     "output_type": "stream",
     "text": [
      "Shape of x_train: (1479, 21)\n",
      "Shape of y_train: (1479,)\n",
      "\n",
      "Shape of x_cv (validation): (317, 21)\n",
      "Shape of y_cv (validation): (317,)\n",
      "\n",
      "Shape of x_test: (317, 21)\n",
      "Shape of y_test: (317,)\n"
     ]
    }
   ],
   "source": [
    "from sklearn.model_selection import train_test_split\n",
    "\n",
    "#Splitting data into 70% training and 30% temporary \n",
    "x_train, x_temp, y_train, y_temp = train_test_split(\n",
    "    X, Y, test_size=0.3, random_state=42, stratify=Y\n",
    ")\n",
    "\n",
    "#Splitting 30% temporary into 15% validation and 15% test\n",
    "x_cv, x_test, y_cv, y_test = train_test_split(\n",
    "    x_temp, y_temp, test_size=0.5, random_state=42, stratify=y_temp\n",
    ")\n",
    "\n",
    "print(\"Shape of x_train:\", x_train.shape)\n",
    "print(\"Shape of y_train:\", y_train.shape)\n",
    "print(\"\\nShape of x_cv (validation):\", x_cv.shape)\n",
    "print(\"Shape of y_cv (validation):\", y_cv.shape)\n",
    "print(\"\\nShape of x_test:\", x_test.shape)\n",
    "print(\"Shape of y_test:\", y_test.shape)"
   ]
  },
  {
   "cell_type": "markdown",
   "id": "b624a86e",
   "metadata": {},
   "source": [
    "**Feature Scaling with Z-score normalization**"
   ]
  },
  {
   "cell_type": "code",
   "execution_count": 9,
   "id": "7690398a",
   "metadata": {},
   "outputs": [],
   "source": [
    "from sklearn.preprocessing import StandardScaler\n",
    "scaler = StandardScaler()\n",
    "x_train_scaled = scaler.fit_transform(x_train)\n",
    "x_test_scaled = scaler.transform(x_test)\n",
    "x_cv_scaled = scaler.transform(x_cv)"
   ]
  },
  {
   "cell_type": "markdown",
   "id": "41b42012",
   "metadata": {},
   "source": [
    "<h3><b>4)Model Training & Evaluation</b></h3>"
   ]
  },
  {
   "cell_type": "markdown",
   "id": "74d045ca",
   "metadata": {},
   "source": [
    "<h4><b>RandomForest</b></h4>"
   ]
  },
  {
   "cell_type": "code",
   "execution_count": 10,
   "id": "def710a1",
   "metadata": {},
   "outputs": [],
   "source": [
    "from sklearn.ensemble import RandomForestClassifier\n",
    "from sklearn.model_selection import GridSearchCV\n",
    "from sklearn.metrics import classification_report\n",
    "SEED = 55"
   ]
  },
  {
   "cell_type": "code",
   "execution_count": 11,
   "id": "ec365d0c",
   "metadata": {},
   "outputs": [
    {
     "name": "stdout",
     "output_type": "stream",
     "text": [
      "              precision    recall  f1-score   support\n",
      "\n",
      "         1.0       0.99      1.00      0.99      1152\n",
      "         2.0       0.98      0.95      0.96       204\n",
      "         3.0       0.99      0.98      0.99       123\n",
      "\n",
      "    accuracy                           0.99      1479\n",
      "   macro avg       0.99      0.98      0.98      1479\n",
      "weighted avg       0.99      0.99      0.99      1479\n",
      "\n",
      "{'max_depth': 12, 'min_samples_split': 5, 'n_estimators': 100}\n"
     ]
    }
   ],
   "source": [
    "params_grid = {\n",
    "    \"n_estimators\": [100, 150, 200, 250],\n",
    "    \"max_depth\": [4, 6, 8, 10, 12, None],\n",
    "    \"min_samples_split\": [2, 3, 4, 5]\n",
    "}\n",
    "randomForest = RandomForestClassifier(random_state = SEED)\n",
    "grid_search = GridSearchCV(randomForest , params_grid, scoring = \"accuracy\", cv = 5, n_jobs = -1,)\n",
    "grid_search.fit(x_train, y_train)\n",
    "best_model = grid_search.best_estimator_\n",
    "best_params = grid_search.best_params_\n",
    "print(classification_report(y_train, best_model.predict(x_train)))\n",
    "print(best_params)"
   ]
  },
  {
   "cell_type": "markdown",
   "id": "fc48abd4",
   "metadata": {},
   "source": [
    "**RandomForest Evaluation**"
   ]
  },
  {
   "cell_type": "code",
   "execution_count": 12,
   "id": "dc76ec94",
   "metadata": {},
   "outputs": [
    {
     "name": "stdout",
     "output_type": "stream",
     "text": [
      "Validation results: \n",
      "              precision    recall  f1-score   support\n",
      "\n",
      "         1.0       0.96      0.98      0.97       247\n",
      "         2.0       0.78      0.73      0.75        44\n",
      "         3.0       0.96      0.88      0.92        26\n",
      "\n",
      "    accuracy                           0.93       317\n",
      "   macro avg       0.90      0.86      0.88       317\n",
      "weighted avg       0.93      0.93      0.93       317\n",
      "\n",
      "Test results: \n",
      "              precision    recall  f1-score   support\n",
      "\n",
      "         1.0       0.95      0.98      0.97       247\n",
      "         2.0       0.89      0.75      0.81        44\n",
      "         3.0       1.00      0.96      0.98        26\n",
      "\n",
      "    accuracy                           0.95       317\n",
      "   macro avg       0.95      0.90      0.92       317\n",
      "weighted avg       0.95      0.95      0.95       317\n",
      "\n"
     ]
    }
   ],
   "source": [
    "##Testing on Validation set\n",
    "print(\"Validation results: \")\n",
    "print(classification_report(y_cv, best_model.predict(x_cv)))\n",
    "print(\"Test results: \")\n",
    "print(classification_report(y_test, best_model.predict(x_test)))"
   ]
  },
  {
   "cell_type": "markdown",
   "id": "808872f0",
   "metadata": {},
   "source": [
    "**RandomForest AUC-SCORE**"
   ]
  },
  {
   "cell_type": "code",
   "execution_count": 13,
   "id": "c6426e83",
   "metadata": {},
   "outputs": [
    {
     "name": "stdout",
     "output_type": "stream",
     "text": [
      "Macro AUC-Score: 0.9876\n",
      "Weighted AUC-Score: 0.9865\n"
     ]
    }
   ],
   "source": [
    "from sklearn.metrics import roc_auc_score\n",
    "y_prob = best_model.predict_proba(x_test)#returns prob of each class\n",
    "auc_macro = roc_auc_score(y_test, y_prob, multi_class = \"ovr\", average = \"macro\")\n",
    "auc_weighted = roc_auc_score(y_test, y_prob, multi_class = \"ovr\", average = \"weighted\")\n",
    "print(f\"Macro AUC-Score: {auc_macro:.4f}\")\n",
    "print(f\"Weighted AUC-Score: {auc_weighted:.4f}\")"
   ]
  },
  {
   "cell_type": "markdown",
   "id": "4bc344d5",
   "metadata": {},
   "source": [
    "<h4><b>Gradient Boosting</b></h4>"
   ]
  },
  {
   "cell_type": "code",
   "execution_count": 14,
   "id": "a235e4f5",
   "metadata": {},
   "outputs": [],
   "source": [
    "from sklearn.ensemble import GradientBoostingClassifier"
   ]
  },
  {
   "cell_type": "code",
   "execution_count": 15,
   "id": "d268e594",
   "metadata": {},
   "outputs": [
    {
     "name": "stdout",
     "output_type": "stream",
     "text": [
      "              precision    recall  f1-score   support\n",
      "\n",
      "         1.0       1.00      1.00      1.00      1152\n",
      "         2.0       1.00      1.00      1.00       204\n",
      "         3.0       1.00      1.00      1.00       123\n",
      "\n",
      "    accuracy                           1.00      1479\n",
      "   macro avg       1.00      1.00      1.00      1479\n",
      "weighted avg       1.00      1.00      1.00      1479\n",
      "\n",
      "{'learning_rate': 0.05, 'max_depth': 4, 'n_estimators': 200}\n"
     ]
    }
   ],
   "source": [
    "params_grid = {\n",
    "    \"n_estimators\": [100, 150, 200],\n",
    "    \"learning_rate\": [0.01, 0.05, 0.1],\n",
    "    \"max_depth\": [3, 4, 5, None]\n",
    "}\n",
    "gradBoost = GradientBoostingClassifier(random_state = SEED)\n",
    "grid_search = GridSearchCV(gradBoost , params_grid, scoring = \"accuracy\", cv = 5, n_jobs = -1,)\n",
    "grid_search.fit(x_train, y_train)\n",
    "best_params = grid_search.best_params_\n",
    "best_model = grid_search.best_estimator_\n",
    "print(classification_report(y_train, best_model.predict(x_train)))\n",
    "print(best_params)"
   ]
  },
  {
   "cell_type": "markdown",
   "id": "d2186ef0",
   "metadata": {},
   "source": [
    "**Gradient Boost Evaluation**"
   ]
  },
  {
   "cell_type": "code",
   "execution_count": 17,
   "id": "1ddc9327",
   "metadata": {},
   "outputs": [
    {
     "name": "stdout",
     "output_type": "stream",
     "text": [
      "Validation results: \n",
      "              precision    recall  f1-score   support\n",
      "\n",
      "         1.0       0.97      0.99      0.98       247\n",
      "         2.0       0.92      0.80      0.85        44\n",
      "         3.0       0.92      0.92      0.92        26\n",
      "\n",
      "    accuracy                           0.96       317\n",
      "   macro avg       0.94      0.90      0.92       317\n",
      "weighted avg       0.96      0.96      0.96       317\n",
      "\n",
      "Test results: \n",
      "              precision    recall  f1-score   support\n",
      "\n",
      "         1.0       0.95      0.99      0.97       247\n",
      "         2.0       0.91      0.73      0.81        44\n",
      "         3.0       1.00      0.92      0.96        26\n",
      "\n",
      "    accuracy                           0.95       317\n",
      "   macro avg       0.95      0.88      0.91       317\n",
      "weighted avg       0.95      0.95      0.94       317\n",
      "\n"
     ]
    }
   ],
   "source": [
    "print(\"Validation results: \")\n",
    "print(classification_report(y_cv, best_model.predict(x_cv)))\n",
    "print(\"Test results: \")\n",
    "print(classification_report(y_test, best_model.predict(x_test)))"
   ]
  },
  {
   "cell_type": "markdown",
   "id": "4d3503b7",
   "metadata": {},
   "source": [
    "**AUC-SCORE**"
   ]
  },
  {
   "cell_type": "code",
   "execution_count": 16,
   "id": "efd2e1d4",
   "metadata": {},
   "outputs": [
    {
     "name": "stdout",
     "output_type": "stream",
     "text": [
      "Macro AUC-Score: 0.9892\n",
      "Weighted AUC-Score: 0.9871\n"
     ]
    }
   ],
   "source": [
    "from sklearn.metrics import roc_auc_score\n",
    "y_prob = best_model.predict_proba(x_test)#returns prob of each class\n",
    "auc_macro = roc_auc_score(y_test, y_prob, multi_class = \"ovr\", average = \"macro\")\n",
    "auc_weighted = roc_auc_score(y_test, y_prob, multi_class = \"ovr\", average = \"weighted\")\n",
    "print(f\"Macro AUC-Score: {auc_macro:.4f}\")\n",
    "print(f\"Weighted AUC-Score: {auc_weighted:.4f}\")"
   ]
  },
  {
   "cell_type": "code",
   "execution_count": null,
   "id": "aee06086",
   "metadata": {},
   "outputs": [],
   "source": []
  }
 ],
 "metadata": {
  "kernelspec": {
   "display_name": "venv",
   "language": "python",
   "name": "python3"
  },
  "language_info": {
   "codemirror_mode": {
    "name": "ipython",
    "version": 3
   },
   "file_extension": ".py",
   "mimetype": "text/x-python",
   "name": "python",
   "nbconvert_exporter": "python",
   "pygments_lexer": "ipython3",
   "version": "3.12.0"
  }
 },
 "nbformat": 4,
 "nbformat_minor": 5
}
